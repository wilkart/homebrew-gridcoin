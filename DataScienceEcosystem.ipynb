{
 "cells": [
  {
   "cell_type": "markdown",
   "id": "07aa5962-654e-411a-8770-7f2bb6fdd685",
   "metadata": {},
   "source": [
    "# Data Science Ecosystem"
   ]
  },
  {
   "cell_type": "markdown",
   "id": "ee480fb2-aed8-4f23-bf41-2af765940bf0",
   "metadata": {},
   "source": [
    "In this notebook, Data Science Tools and Ecosystem are summarized."
   ]
  },
  {
   "cell_type": "markdown",
   "id": "456f21da-0c5b-4dfb-8f87-2a53298bbd6b",
   "metadata": {},
   "source": [
    "Some of the popular languages that Data Scientists use are:\n",
    "1. python\n",
    "1. r \n",
    "1. c++"
   ]
  },
  {
   "cell_type": "markdown",
   "id": "5a18f166-f231-4709-b82c-f58b88933136",
   "metadata": {},
   "source": [
    "Some of the commonly used libraries used by Data Scientists include:\n",
    "1. pytorch for deep learning\n",
    "1. tensorflow for deep learning \n",
    "1. numpy for general computing\n",
    "1. matplot for creating visualization"
   ]
  },
  {
   "cell_type": "markdown",
   "id": "8c40088f-3817-44a7-b919-a6ea3d7a33ba",
   "metadata": {},
   "source": [
    "| Data Science Tools | \n",
    "| -------- | \n",
    "| JupyterLab | \n",
    "| R Studio |\n",
    "| TensorFlow |\n"
   ]
  },
  {
   "cell_type": "code",
   "execution_count": 2,
   "id": "6b85c549-1694-463e-b6e8-1b9b027973c9",
   "metadata": {
    "tags": []
   },
   "outputs": [
    {
     "data": {
      "text/plain": [
       "17"
      ]
     },
     "execution_count": 2,
     "metadata": {},
     "output_type": "execute_result"
    }
   ],
   "source": [
    "# This a simple arithmetic expression to mutiply then add integers\n",
    "(3*4)+5"
   ]
  },
  {
   "cell_type": "code",
   "execution_count": 10,
   "id": "aefae811-049b-46a5-ac61-e8e27bac9d50",
   "metadata": {
    "tags": []
   },
   "outputs": [
    {
     "name": "stdout",
     "output_type": "stream",
     "text": [
      "200 minutes is\n",
      "3.3333333333333335 hours\n"
     ]
    }
   ],
   "source": [
    "# This will convert 200 minutes to hours by diving by 60\n",
    "print(\"200 minutes is\")\n",
    "x = 200/60\n",
    "print(x, \"hours\")"
   ]
  },
  {
   "cell_type": "markdown",
   "id": "54bdc904-a9cf-4b58-93f1-c2746247eccf",
   "metadata": {},
   "source": [
    "**Objectives:**\n",
    "- List of common data science programming languages\n",
    "- Basic usage of Jupyter notebook with markdown and python syntax\n",
    "- Sharing Jupyter notebooks through git repositories"
   ]
  },
  {
   "cell_type": "markdown",
   "id": "e4842577-1293-4daf-a7d8-05a6bf5da80d",
   "metadata": {
    "tags": []
   },
   "source": [
    "## Author - wilkart\n"
   ]
  },
  {
   "cell_type": "markdown",
   "id": "647cff86-a1f3-4cab-830d-beeadd84579f",
   "metadata": {
    "tags": []
   },
   "source": [
    "## Author - wilkart\n"
   ]
  },
  {
   "cell_type": "code",
   "execution_count": null,
   "id": "2a1f73c1-2f5d-44d0-9420-e404de45eb3b",
   "metadata": {},
   "outputs": [],
   "source": []
  }
 ],
 "metadata": {
  "kernelspec": {
   "display_name": "Python",
   "language": "python",
   "name": "conda-env-python-py"
  },
  "language_info": {
   "codemirror_mode": {
    "name": "ipython",
    "version": 3
   },
   "file_extension": ".py",
   "mimetype": "text/x-python",
   "name": "python",
   "nbconvert_exporter": "python",
   "pygments_lexer": "ipython3",
   "version": "3.7.12"
  }
 },
 "nbformat": 4,
 "nbformat_minor": 5
}
